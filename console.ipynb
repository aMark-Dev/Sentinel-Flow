{
 "cells": [
  {
   "cell_type": "code",
   "execution_count": 65,
   "id": "b1e17e3a",
   "metadata": {},
   "outputs": [],
   "source": [
    "import pandas as pd"
   ]
  },
  {
   "cell_type": "markdown",
   "id": "d8cf1364",
   "metadata": {},
   "source": [
    "# Tratando dados físicos e meteorológicos"
   ]
  },
  {
   "cell_type": "code",
   "execution_count": 66,
   "id": "0b48c970",
   "metadata": {},
   "outputs": [
    {
     "data": {
      "application/vnd.microsoft.datawrangler.viewer.v0+json": {
       "columns": [
        {
         "name": "index",
         "rawType": "int64",
         "type": "integer"
        },
        {
         "name": "Data Medicao",
         "rawType": "object",
         "type": "string"
        },
        {
         "name": "Hora Medicao",
         "rawType": "int64",
         "type": "integer"
        },
        {
         "name": "PRECIPITACAO TOTAL, HORARIO(mm)",
         "rawType": "float64",
         "type": "float"
        },
        {
         "name": "RADIACAO GLOBAL(Kj/m²)",
         "rawType": "float64",
         "type": "float"
        },
        {
         "name": "TEMPERATURA DO AR - BULBO SECO, HORARIA(°C)",
         "rawType": "float64",
         "type": "float"
        },
        {
         "name": "UMIDADE RELATIVA DO AR, HORARIA(%)",
         "rawType": "float64",
         "type": "float"
        },
        {
         "name": "VENTO, VELOCIDADE HORARIA(m/s)",
         "rawType": "float64",
         "type": "float"
        }
       ],
       "ref": "6f557285-47cc-4121-a949-72d6351613b0",
       "rows": [
        [
         "0",
         "2018-01-01",
         "0",
         "0.0",
         "-3.5",
         "30.3",
         "31.0",
         "0.8"
        ],
        [
         "1",
         "2018-01-01",
         "100",
         "0.0",
         "-3.5",
         "30.2",
         "34.0",
         "2.0"
        ],
        [
         "2",
         "2018-01-01",
         "200",
         "0.0",
         "-3.5",
         "29.6",
         "47.0",
         "3.2"
        ],
        [
         "3",
         "2018-01-01",
         "300",
         "0.0",
         "-3.5",
         "28.1",
         "55.0",
         "4.0"
        ],
        [
         "4",
         "2018-01-01",
         "400",
         "0.0",
         "-3.5",
         "27.2",
         "58.0",
         "2.6"
        ],
        [
         "5",
         "2018-01-01",
         "500",
         "0.0",
         "-3.5",
         "26.1",
         "62.0",
         "1.8"
        ],
        [
         "6",
         "2018-01-01",
         "600",
         "0.0",
         "-3.5",
         "25.7",
         "64.0",
         "2.0"
        ],
        [
         "7",
         "2018-01-01",
         "700",
         "0.0",
         "-3.5",
         "25.1",
         "68.0",
         "2.5"
        ],
        [
         "8",
         "2018-01-01",
         "800",
         "0.0",
         "-3.4",
         "24.9",
         "69.0",
         "2.7"
        ],
        [
         "9",
         "2018-01-01",
         "900",
         "0.0",
         "18.1",
         "24.5",
         "73.0",
         "2.8"
        ],
        [
         "10",
         "2018-01-01",
         "1000",
         "0.0",
         "507.3",
         "25.9",
         "68.0",
         "1.7"
        ],
        [
         "11",
         "2018-01-01",
         "1100",
         "0.0",
         "1085.5",
         "29.2",
         "55.0",
         "3.2"
        ],
        [
         "12",
         "2018-01-01",
         "1200",
         "0.0",
         "1709.2",
         "30.9",
         "47.0",
         "3.8"
        ],
        [
         "13",
         "2018-01-01",
         "1300",
         "0.0",
         "1767.8",
         "31.3",
         "43.0",
         "3.5"
        ],
        [
         "14",
         "2018-01-01",
         "1400",
         "0.0",
         "3134.4",
         "34.6",
         "33.0",
         "4.0"
        ],
        [
         "15",
         "2018-01-01",
         "1500",
         "0.0",
         "3118.1",
         "35.5",
         "29.0",
         "4.1"
        ],
        [
         "16",
         "2018-01-01",
         "1600",
         "0.0",
         "3157.2",
         "35.6",
         "28.0",
         "3.4"
        ],
        [
         "17",
         "2018-01-01",
         "1700",
         "0.0",
         "2973.6",
         "37.7",
         "23.0",
         "2.8"
        ],
        [
         "18",
         "2018-01-01",
         "1800",
         "0.0",
         "2268.4",
         "36.6",
         "24.0",
         null
        ],
        [
         "19",
         "2018-01-01",
         "1900",
         "0.0",
         "1939.1",
         "36.8",
         "22.0",
         "3.2"
        ],
        [
         "20",
         "2018-01-01",
         "2000",
         "0.0",
         "896.4",
         "36.0",
         "23.0",
         "3.5"
        ],
        [
         "21",
         "2018-01-01",
         "2100",
         "0.0",
         "277.8",
         "34.9",
         "23.0",
         "2.8"
        ],
        [
         "22",
         "2018-01-01",
         "2200",
         "0.0",
         "-3.3",
         "33.8",
         "24.0",
         "2.1"
        ],
        [
         "23",
         "2018-01-01",
         "2300",
         "0.0",
         "-3.5",
         "32.6",
         "27.0",
         "2.1"
        ],
        [
         "24",
         "2018-01-02",
         "0",
         "0.0",
         "-3.5",
         "31.2",
         "30.0",
         "1.6"
        ],
        [
         "25",
         "2018-01-02",
         "100",
         "0.0",
         "-3.5",
         "30.3",
         "32.0",
         "1.9"
        ],
        [
         "26",
         "2018-01-02",
         "200",
         "0.0",
         "-3.5",
         "28.5",
         "36.0",
         "2.0"
        ],
        [
         "27",
         "2018-01-02",
         "300",
         "0.0",
         "-3.5",
         "27.4",
         "51.0",
         "2.1"
        ],
        [
         "28",
         "2018-01-02",
         "400",
         "0.0",
         "-3.5",
         "26.6",
         "59.0",
         "3.1"
        ],
        [
         "29",
         "2018-01-02",
         "500",
         "0.0",
         "-3.5",
         "26.0",
         "62.0",
         "1.3"
        ],
        [
         "30",
         "2018-01-02",
         "600",
         "0.0",
         "-3.5",
         "25.4",
         "64.0",
         "2.0"
        ],
        [
         "31",
         "2018-01-02",
         "700",
         "0.0",
         "-3.5",
         "24.9",
         "66.0",
         "1.9"
        ],
        [
         "32",
         "2018-01-02",
         "800",
         "0.0",
         "-3.5",
         "24.3",
         "68.0",
         "1.0"
        ],
        [
         "33",
         "2018-01-02",
         "900",
         "0.0",
         "13.7",
         "24.2",
         "70.0",
         "0.6"
        ],
        [
         "34",
         "2018-01-02",
         "1000",
         "0.0",
         "463.3",
         "25.1",
         "70.0",
         "1.4"
        ],
        [
         "35",
         "2018-01-02",
         "1100",
         "0.0",
         "1178.4",
         "27.5",
         "56.0",
         "1.7"
        ],
        [
         "36",
         "2018-01-02",
         "1200",
         "0.0",
         "2159.9",
         "29.7",
         "48.0",
         "3.6"
        ],
        [
         "37",
         "2018-01-02",
         "1300",
         "0.0",
         "1962.2",
         "30.4",
         "45.0",
         "3.5"
        ],
        [
         "38",
         "2018-01-02",
         "1400",
         "0.0",
         "2864.4",
         "32.0",
         "39.0",
         "3.6"
        ],
        [
         "39",
         "2018-01-02",
         "1500",
         "0.0",
         "2335.1",
         "31.8",
         "39.0",
         "4.4"
        ],
        [
         "40",
         "2018-01-02",
         "1600",
         "0.0",
         "1892.0",
         "32.5",
         "36.0",
         "2.7"
        ],
        [
         "41",
         "2018-01-02",
         "1700",
         "0.0",
         "2338.3",
         "34.4",
         "31.0",
         "2.7"
        ],
        [
         "42",
         "2018-01-02",
         "1800",
         "0.0",
         "2043.7",
         "34.9",
         "29.0",
         "1.5"
        ],
        [
         "43",
         "2018-01-02",
         "1900",
         "0.0",
         "1295.7",
         "34.5",
         "28.0",
         "1.7"
        ],
        [
         "44",
         "2018-01-02",
         "2000",
         "0.0",
         "982.9",
         "34.9",
         "25.0",
         "2.9"
        ],
        [
         "45",
         "2018-01-02",
         "2100",
         "0.0",
         "180.4",
         "33.9",
         "28.0",
         "2.8"
        ],
        [
         "46",
         "2018-01-02",
         "2200",
         "0.0",
         "-3.5",
         "32.6",
         "31.0",
         "1.9"
        ],
        [
         "47",
         "2018-01-02",
         "2300",
         "0.0",
         "-3.5",
         "31.5",
         "33.0",
         "1.5"
        ],
        [
         "48",
         "2018-01-03",
         "0",
         "0.0",
         "-3.5",
         "30.3",
         "36.0",
         "2.3"
        ],
        [
         "49",
         "2018-01-03",
         "100",
         "0.0",
         "-3.5",
         "29.1",
         "49.0",
         "3.3"
        ]
       ],
       "shape": {
        "columns": 7,
        "rows": 66840
       }
      },
      "text/html": [
       "<div>\n",
       "<style scoped>\n",
       "    .dataframe tbody tr th:only-of-type {\n",
       "        vertical-align: middle;\n",
       "    }\n",
       "\n",
       "    .dataframe tbody tr th {\n",
       "        vertical-align: top;\n",
       "    }\n",
       "\n",
       "    .dataframe thead th {\n",
       "        text-align: right;\n",
       "    }\n",
       "</style>\n",
       "<table border=\"1\" class=\"dataframe\">\n",
       "  <thead>\n",
       "    <tr style=\"text-align: right;\">\n",
       "      <th></th>\n",
       "      <th>Data Medicao</th>\n",
       "      <th>Hora Medicao</th>\n",
       "      <th>PRECIPITACAO TOTAL, HORARIO(mm)</th>\n",
       "      <th>RADIACAO GLOBAL(Kj/m²)</th>\n",
       "      <th>TEMPERATURA DO AR - BULBO SECO, HORARIA(°C)</th>\n",
       "      <th>UMIDADE RELATIVA DO AR, HORARIA(%)</th>\n",
       "      <th>VENTO, VELOCIDADE HORARIA(m/s)</th>\n",
       "    </tr>\n",
       "  </thead>\n",
       "  <tbody>\n",
       "    <tr>\n",
       "      <th>0</th>\n",
       "      <td>2018-01-01</td>\n",
       "      <td>0</td>\n",
       "      <td>0.0</td>\n",
       "      <td>-3.5</td>\n",
       "      <td>30.3</td>\n",
       "      <td>31.0</td>\n",
       "      <td>0.8</td>\n",
       "    </tr>\n",
       "    <tr>\n",
       "      <th>1</th>\n",
       "      <td>2018-01-01</td>\n",
       "      <td>100</td>\n",
       "      <td>0.0</td>\n",
       "      <td>-3.5</td>\n",
       "      <td>30.2</td>\n",
       "      <td>34.0</td>\n",
       "      <td>2.0</td>\n",
       "    </tr>\n",
       "    <tr>\n",
       "      <th>2</th>\n",
       "      <td>2018-01-01</td>\n",
       "      <td>200</td>\n",
       "      <td>0.0</td>\n",
       "      <td>-3.5</td>\n",
       "      <td>29.6</td>\n",
       "      <td>47.0</td>\n",
       "      <td>3.2</td>\n",
       "    </tr>\n",
       "    <tr>\n",
       "      <th>3</th>\n",
       "      <td>2018-01-01</td>\n",
       "      <td>300</td>\n",
       "      <td>0.0</td>\n",
       "      <td>-3.5</td>\n",
       "      <td>28.1</td>\n",
       "      <td>55.0</td>\n",
       "      <td>4.0</td>\n",
       "    </tr>\n",
       "    <tr>\n",
       "      <th>4</th>\n",
       "      <td>2018-01-01</td>\n",
       "      <td>400</td>\n",
       "      <td>0.0</td>\n",
       "      <td>-3.5</td>\n",
       "      <td>27.2</td>\n",
       "      <td>58.0</td>\n",
       "      <td>2.6</td>\n",
       "    </tr>\n",
       "    <tr>\n",
       "      <th>...</th>\n",
       "      <td>...</td>\n",
       "      <td>...</td>\n",
       "      <td>...</td>\n",
       "      <td>...</td>\n",
       "      <td>...</td>\n",
       "      <td>...</td>\n",
       "      <td>...</td>\n",
       "    </tr>\n",
       "    <tr>\n",
       "      <th>66835</th>\n",
       "      <td>2025-08-16</td>\n",
       "      <td>1900</td>\n",
       "      <td>NaN</td>\n",
       "      <td>NaN</td>\n",
       "      <td>NaN</td>\n",
       "      <td>NaN</td>\n",
       "      <td>NaN</td>\n",
       "    </tr>\n",
       "    <tr>\n",
       "      <th>66836</th>\n",
       "      <td>2025-08-16</td>\n",
       "      <td>2000</td>\n",
       "      <td>NaN</td>\n",
       "      <td>NaN</td>\n",
       "      <td>NaN</td>\n",
       "      <td>NaN</td>\n",
       "      <td>NaN</td>\n",
       "    </tr>\n",
       "    <tr>\n",
       "      <th>66837</th>\n",
       "      <td>2025-08-16</td>\n",
       "      <td>2100</td>\n",
       "      <td>NaN</td>\n",
       "      <td>NaN</td>\n",
       "      <td>NaN</td>\n",
       "      <td>NaN</td>\n",
       "      <td>NaN</td>\n",
       "    </tr>\n",
       "    <tr>\n",
       "      <th>66838</th>\n",
       "      <td>2025-08-16</td>\n",
       "      <td>2200</td>\n",
       "      <td>NaN</td>\n",
       "      <td>NaN</td>\n",
       "      <td>NaN</td>\n",
       "      <td>NaN</td>\n",
       "      <td>NaN</td>\n",
       "    </tr>\n",
       "    <tr>\n",
       "      <th>66839</th>\n",
       "      <td>2025-08-16</td>\n",
       "      <td>2300</td>\n",
       "      <td>NaN</td>\n",
       "      <td>NaN</td>\n",
       "      <td>NaN</td>\n",
       "      <td>NaN</td>\n",
       "      <td>NaN</td>\n",
       "    </tr>\n",
       "  </tbody>\n",
       "</table>\n",
       "<p>66840 rows × 7 columns</p>\n",
       "</div>"
      ],
      "text/plain": [
       "      Data Medicao  Hora Medicao  PRECIPITACAO TOTAL, HORARIO(mm)  \\\n",
       "0       2018-01-01             0                              0.0   \n",
       "1       2018-01-01           100                              0.0   \n",
       "2       2018-01-01           200                              0.0   \n",
       "3       2018-01-01           300                              0.0   \n",
       "4       2018-01-01           400                              0.0   \n",
       "...            ...           ...                              ...   \n",
       "66835   2025-08-16          1900                              NaN   \n",
       "66836   2025-08-16          2000                              NaN   \n",
       "66837   2025-08-16          2100                              NaN   \n",
       "66838   2025-08-16          2200                              NaN   \n",
       "66839   2025-08-16          2300                              NaN   \n",
       "\n",
       "       RADIACAO GLOBAL(Kj/m²)  TEMPERATURA DO AR - BULBO SECO, HORARIA(°C)  \\\n",
       "0                        -3.5                                         30.3   \n",
       "1                        -3.5                                         30.2   \n",
       "2                        -3.5                                         29.6   \n",
       "3                        -3.5                                         28.1   \n",
       "4                        -3.5                                         27.2   \n",
       "...                       ...                                          ...   \n",
       "66835                     NaN                                          NaN   \n",
       "66836                     NaN                                          NaN   \n",
       "66837                     NaN                                          NaN   \n",
       "66838                     NaN                                          NaN   \n",
       "66839                     NaN                                          NaN   \n",
       "\n",
       "       UMIDADE RELATIVA DO AR, HORARIA(%)  VENTO, VELOCIDADE HORARIA(m/s)  \n",
       "0                                    31.0                             0.8  \n",
       "1                                    34.0                             2.0  \n",
       "2                                    47.0                             3.2  \n",
       "3                                    55.0                             4.0  \n",
       "4                                    58.0                             2.6  \n",
       "...                                   ...                             ...  \n",
       "66835                                 NaN                             NaN  \n",
       "66836                                 NaN                             NaN  \n",
       "66837                                 NaN                             NaN  \n",
       "66838                                 NaN                             NaN  \n",
       "66839                                 NaN                             NaN  \n",
       "\n",
       "[66840 rows x 7 columns]"
      ]
     },
     "metadata": {},
     "output_type": "display_data"
    }
   ],
   "source": [
    "pf_df = pd.read_csv(\"clima.csv\", sep=';')\n",
    "pf_df.drop(columns=['Unnamed: 7'], inplace=True)\n",
    "display(pf_df)"
   ]
  },
  {
   "cell_type": "code",
   "execution_count": 68,
   "id": "35931e94",
   "metadata": {},
   "outputs": [
    {
     "name": "stdout",
     "output_type": "stream",
     "text": [
      "Data Medicao                                   0\n",
      "Hora Medicao                                   0\n",
      "PRECIPITACAO TOTAL, HORARIO(mm)                0\n",
      "RADIACAO GLOBAL(Kj/m²)                         0\n",
      "TEMPERATURA DO AR - BULBO SECO, HORARIA(°C)    0\n",
      "UMIDADE RELATIVA DO AR, HORARIA(%)             0\n",
      "VENTO, VELOCIDADE HORARIA(m/s)                 0\n",
      "dtype: int64\n"
     ]
    },
    {
     "name": "stderr",
     "output_type": "stream",
     "text": [
      "C:\\Users\\marco\\AppData\\Local\\Temp\\ipykernel_14572\\1257529808.py:1: FutureWarning: DataFrame.fillna with 'method' is deprecated and will raise in a future version. Use obj.ffill() or obj.bfill() instead.\n",
      "  pf_df.fillna(method='ffill', inplace=True)\n"
     ]
    }
   ],
   "source": [
    "pf_df.fillna(method='ffill', inplace=True)\n",
    "print(pf_df.isnull().sum())"
   ]
  },
  {
   "cell_type": "markdown",
   "id": "4830205f",
   "metadata": {},
   "source": [
    "# Tratando dados da variação do volume da barragem"
   ]
  },
  {
   "cell_type": "code",
   "execution_count": 71,
   "id": "086e7afd",
   "metadata": {},
   "outputs": [
    {
     "data": {
      "application/vnd.microsoft.datawrangler.viewer.v0+json": {
       "columns": [
        {
         "name": "index",
         "rawType": "int64",
         "type": "integer"
        },
        {
         "name": "data",
         "rawType": "object",
         "type": "string"
        },
        {
         "name": "volume",
         "rawType": "float64",
         "type": "float"
        }
       ],
       "ref": "347f63fd-f6cf-4581-ac8f-979f3edfaddf",
       "rows": [
        [
         "0",
         "08-16-2021",
         "49.95"
        ],
        [
         "1",
         "08-17-2021",
         "49.81"
        ],
        [
         "2",
         "08-18-2021",
         "49.68"
        ],
        [
         "3",
         "08-19-2021",
         "49.68"
        ],
        [
         "4",
         "08-20-2021",
         "49.54"
        ],
        [
         "5",
         "08-21-2021",
         "49.27"
        ],
        [
         "6",
         "08-22-2021",
         "49.27"
        ],
        [
         "7",
         "08-23-2021",
         "49.14"
        ],
        [
         "8",
         "08-24-2021",
         "49.0"
        ],
        [
         "9",
         "08-25-2021",
         "49.0"
        ],
        [
         "10",
         "08-26-2021",
         "48.87"
        ],
        [
         "11",
         "08-27-2021",
         "48.87"
        ],
        [
         "12",
         "08-28-2021",
         "48.73"
        ],
        [
         "13",
         "08-29-2021",
         "48.6"
        ],
        [
         "14",
         "08-30-2021",
         "48.46"
        ],
        [
         "15",
         "08-31-2021",
         "48.33"
        ],
        [
         "16",
         "09-01-2021",
         "48.19"
        ],
        [
         "17",
         "09-02-2021",
         "48.06"
        ],
        [
         "18",
         "09-03-2021",
         "47.92"
        ],
        [
         "19",
         "09-04-2021",
         "47.79"
        ],
        [
         "20",
         "09-05-2021",
         "47.79"
        ],
        [
         "21",
         "09-06-2021",
         "47.65"
        ],
        [
         "22",
         "09-07-2021",
         "47.52"
        ],
        [
         "23",
         "09-08-2021",
         "47.52"
        ],
        [
         "24",
         "09-09-2021",
         "47.52"
        ],
        [
         "25",
         "09-10-2021",
         "47.38"
        ],
        [
         "26",
         "09-11-2021",
         "47.38"
        ],
        [
         "27",
         "09-12-2021",
         "47.38"
        ],
        [
         "28",
         "09-13-2021",
         "47.25"
        ],
        [
         "29",
         "09-14-2021",
         "47.11"
        ],
        [
         "30",
         "09-15-2021",
         "46.98"
        ],
        [
         "31",
         "09-16-2021",
         "46.84"
        ],
        [
         "32",
         "09-17-2021",
         "46.71"
        ],
        [
         "33",
         "09-18-2021",
         "46.57"
        ],
        [
         "34",
         "09-19-2021",
         "46.44"
        ],
        [
         "35",
         "09-20-2021",
         "46.44"
        ],
        [
         "36",
         "09-21-2021",
         "46.3"
        ],
        [
         "37",
         "09-22-2021",
         "46.17"
        ],
        [
         "38",
         "09-23-2021",
         "46.17"
        ],
        [
         "39",
         "09-24-2021",
         "46.03"
        ],
        [
         "40",
         "09-25-2021",
         "45.9"
        ],
        [
         "41",
         "09-26-2021",
         "45.76"
        ],
        [
         "42",
         "09-27-2021",
         "45.63"
        ],
        [
         "43",
         "09-28-2021",
         "45.49"
        ],
        [
         "44",
         "09-29-2021",
         "45.36"
        ],
        [
         "45",
         "09-30-2021",
         "45.22"
        ],
        [
         "46",
         "10-01-2021",
         "45.22"
        ],
        [
         "47",
         "10-02-2021",
         "45.09"
        ],
        [
         "48",
         "10-03-2021",
         "44.95"
        ],
        [
         "49",
         "10-04-2021",
         "44.82"
        ]
       ],
       "shape": {
        "columns": 2,
        "rows": 1462
       }
      },
      "text/html": [
       "<div>\n",
       "<style scoped>\n",
       "    .dataframe tbody tr th:only-of-type {\n",
       "        vertical-align: middle;\n",
       "    }\n",
       "\n",
       "    .dataframe tbody tr th {\n",
       "        vertical-align: top;\n",
       "    }\n",
       "\n",
       "    .dataframe thead th {\n",
       "        text-align: right;\n",
       "    }\n",
       "</style>\n",
       "<table border=\"1\" class=\"dataframe\">\n",
       "  <thead>\n",
       "    <tr style=\"text-align: right;\">\n",
       "      <th></th>\n",
       "      <th>data</th>\n",
       "      <th>volume</th>\n",
       "    </tr>\n",
       "  </thead>\n",
       "  <tbody>\n",
       "    <tr>\n",
       "      <th>0</th>\n",
       "      <td>08-16-2021</td>\n",
       "      <td>49.95</td>\n",
       "    </tr>\n",
       "    <tr>\n",
       "      <th>1</th>\n",
       "      <td>08-17-2021</td>\n",
       "      <td>49.81</td>\n",
       "    </tr>\n",
       "    <tr>\n",
       "      <th>2</th>\n",
       "      <td>08-18-2021</td>\n",
       "      <td>49.68</td>\n",
       "    </tr>\n",
       "    <tr>\n",
       "      <th>3</th>\n",
       "      <td>08-19-2021</td>\n",
       "      <td>49.68</td>\n",
       "    </tr>\n",
       "    <tr>\n",
       "      <th>4</th>\n",
       "      <td>08-20-2021</td>\n",
       "      <td>49.54</td>\n",
       "    </tr>\n",
       "    <tr>\n",
       "      <th>...</th>\n",
       "      <td>...</td>\n",
       "      <td>...</td>\n",
       "    </tr>\n",
       "    <tr>\n",
       "      <th>1457</th>\n",
       "      <td>08-12-2025</td>\n",
       "      <td>12.99</td>\n",
       "    </tr>\n",
       "    <tr>\n",
       "      <th>1458</th>\n",
       "      <td>08-13-2025</td>\n",
       "      <td>12.99</td>\n",
       "    </tr>\n",
       "    <tr>\n",
       "      <th>1459</th>\n",
       "      <td>08-14-2025</td>\n",
       "      <td>12.95</td>\n",
       "    </tr>\n",
       "    <tr>\n",
       "      <th>1460</th>\n",
       "      <td>08-15-2025</td>\n",
       "      <td>NaN</td>\n",
       "    </tr>\n",
       "    <tr>\n",
       "      <th>1461</th>\n",
       "      <td>08-16-2025</td>\n",
       "      <td>NaN</td>\n",
       "    </tr>\n",
       "  </tbody>\n",
       "</table>\n",
       "<p>1462 rows × 2 columns</p>\n",
       "</div>"
      ],
      "text/plain": [
       "            data  volume\n",
       "0     08-16-2021   49.95\n",
       "1     08-17-2021   49.81\n",
       "2     08-18-2021   49.68\n",
       "3     08-19-2021   49.68\n",
       "4     08-20-2021   49.54\n",
       "...          ...     ...\n",
       "1457  08-12-2025   12.99\n",
       "1458  08-13-2025   12.99\n",
       "1459  08-14-2025   12.95\n",
       "1460  08-15-2025     NaN\n",
       "1461  08-16-2025     NaN\n",
       "\n",
       "[1462 rows x 2 columns]"
      ]
     },
     "execution_count": 71,
     "metadata": {},
     "output_type": "execute_result"
    }
   ],
   "source": [
    "df_barragem = pd.read_csv(\"dados_tratados_ana_carnaubal.csv\")\n",
    "df_barragem"
   ]
  },
  {
   "cell_type": "code",
   "execution_count": null,
   "id": "0f5bb3b5",
   "metadata": {},
   "outputs": [
    {
     "name": "stdout",
     "output_type": "stream",
     "text": [
      "data      0\n",
      "volume    0\n",
      "dtype: int64\n"
     ]
    },
    {
     "name": "stderr",
     "output_type": "stream",
     "text": [
      "C:\\Users\\marco\\AppData\\Local\\Temp\\ipykernel_14572\\3135038113.py:1: FutureWarning: DataFrame.fillna with 'method' is deprecated and will raise in a future version. Use obj.ffill() or obj.bfill() instead.\n",
      "  df_barragem.fillna(method='ffill', inplace=True)\n"
     ]
    }
   ],
   "source": [
    "df_barragem.fillna(method='ffill', inplace=True)\n",
    "print(df_barragem.isnull().sum())"
   ]
  }
 ],
 "metadata": {
  "kernelspec": {
   "display_name": ".venv",
   "language": "python",
   "name": "python3"
  },
  "language_info": {
   "codemirror_mode": {
    "name": "ipython",
    "version": 3
   },
   "file_extension": ".py",
   "mimetype": "text/x-python",
   "name": "python",
   "nbconvert_exporter": "python",
   "pygments_lexer": "ipython3",
   "version": "3.13.6"
  }
 },
 "nbformat": 4,
 "nbformat_minor": 5
}
