{
 "cells": [
  {
   "cell_type": "code",
   "execution_count": 102,
   "id": "b1e17e3a",
   "metadata": {},
   "outputs": [],
   "source": [
    "import pandas as pd"
   ]
  },
  {
   "cell_type": "markdown",
   "id": "d8cf1364",
   "metadata": {},
   "source": [
    "# Tratando dados físicos e meteorológicos"
   ]
  },
  {
   "cell_type": "code",
   "execution_count": 103,
   "id": "0b48c970",
   "metadata": {},
   "outputs": [
    {
     "ename": "KeyError",
     "evalue": "\"['Unnamed: 7'] not found in axis\"",
     "output_type": "error",
     "traceback": [
      "\u001b[31m---------------------------------------------------------------------------\u001b[39m",
      "\u001b[31mKeyError\u001b[39m                                  Traceback (most recent call last)",
      "\u001b[36mCell\u001b[39m\u001b[36m \u001b[39m\u001b[32mIn[103]\u001b[39m\u001b[32m, line 2\u001b[39m\n\u001b[32m      1\u001b[39m pf_df = pd.read_csv(\u001b[33m\"\u001b[39m\u001b[33mclima.csv\u001b[39m\u001b[33m\"\u001b[39m, sep=\u001b[33m'\u001b[39m\u001b[33m;\u001b[39m\u001b[33m'\u001b[39m)\n\u001b[32m----> \u001b[39m\u001b[32m2\u001b[39m \u001b[43mpf_df\u001b[49m\u001b[43m.\u001b[49m\u001b[43mdrop\u001b[49m\u001b[43m(\u001b[49m\u001b[43mcolumns\u001b[49m\u001b[43m=\u001b[49m\u001b[43m[\u001b[49m\u001b[33;43m'\u001b[39;49m\u001b[33;43mUnnamed: 7\u001b[39;49m\u001b[33;43m'\u001b[39;49m\u001b[43m]\u001b[49m\u001b[43m,\u001b[49m\u001b[43m \u001b[49m\u001b[43minplace\u001b[49m\u001b[43m=\u001b[49m\u001b[38;5;28;43;01mTrue\u001b[39;49;00m\u001b[43m)\u001b[49m\n\u001b[32m      3\u001b[39m display(pf_df)\n",
      "\u001b[36mFile \u001b[39m\u001b[32mc:\\Users\\marco\\Desktop\\Sentinel-Flow\\.venv\\Lib\\site-packages\\pandas\\core\\frame.py:5588\u001b[39m, in \u001b[36mDataFrame.drop\u001b[39m\u001b[34m(self, labels, axis, index, columns, level, inplace, errors)\u001b[39m\n\u001b[32m   5440\u001b[39m \u001b[38;5;28;01mdef\u001b[39;00m\u001b[38;5;250m \u001b[39m\u001b[34mdrop\u001b[39m(\n\u001b[32m   5441\u001b[39m     \u001b[38;5;28mself\u001b[39m,\n\u001b[32m   5442\u001b[39m     labels: IndexLabel | \u001b[38;5;28;01mNone\u001b[39;00m = \u001b[38;5;28;01mNone\u001b[39;00m,\n\u001b[32m   (...)\u001b[39m\u001b[32m   5449\u001b[39m     errors: IgnoreRaise = \u001b[33m\"\u001b[39m\u001b[33mraise\u001b[39m\u001b[33m\"\u001b[39m,\n\u001b[32m   5450\u001b[39m ) -> DataFrame | \u001b[38;5;28;01mNone\u001b[39;00m:\n\u001b[32m   5451\u001b[39m \u001b[38;5;250m    \u001b[39m\u001b[33;03m\"\"\"\u001b[39;00m\n\u001b[32m   5452\u001b[39m \u001b[33;03m    Drop specified labels from rows or columns.\u001b[39;00m\n\u001b[32m   5453\u001b[39m \n\u001b[32m   (...)\u001b[39m\u001b[32m   5586\u001b[39m \u001b[33;03m            weight  1.0     0.8\u001b[39;00m\n\u001b[32m   5587\u001b[39m \u001b[33;03m    \"\"\"\u001b[39;00m\n\u001b[32m-> \u001b[39m\u001b[32m5588\u001b[39m     \u001b[38;5;28;01mreturn\u001b[39;00m \u001b[38;5;28;43msuper\u001b[39;49m\u001b[43m(\u001b[49m\u001b[43m)\u001b[49m\u001b[43m.\u001b[49m\u001b[43mdrop\u001b[49m\u001b[43m(\u001b[49m\n\u001b[32m   5589\u001b[39m \u001b[43m        \u001b[49m\u001b[43mlabels\u001b[49m\u001b[43m=\u001b[49m\u001b[43mlabels\u001b[49m\u001b[43m,\u001b[49m\n\u001b[32m   5590\u001b[39m \u001b[43m        \u001b[49m\u001b[43maxis\u001b[49m\u001b[43m=\u001b[49m\u001b[43maxis\u001b[49m\u001b[43m,\u001b[49m\n\u001b[32m   5591\u001b[39m \u001b[43m        \u001b[49m\u001b[43mindex\u001b[49m\u001b[43m=\u001b[49m\u001b[43mindex\u001b[49m\u001b[43m,\u001b[49m\n\u001b[32m   5592\u001b[39m \u001b[43m        \u001b[49m\u001b[43mcolumns\u001b[49m\u001b[43m=\u001b[49m\u001b[43mcolumns\u001b[49m\u001b[43m,\u001b[49m\n\u001b[32m   5593\u001b[39m \u001b[43m        \u001b[49m\u001b[43mlevel\u001b[49m\u001b[43m=\u001b[49m\u001b[43mlevel\u001b[49m\u001b[43m,\u001b[49m\n\u001b[32m   5594\u001b[39m \u001b[43m        \u001b[49m\u001b[43minplace\u001b[49m\u001b[43m=\u001b[49m\u001b[43minplace\u001b[49m\u001b[43m,\u001b[49m\n\u001b[32m   5595\u001b[39m \u001b[43m        \u001b[49m\u001b[43merrors\u001b[49m\u001b[43m=\u001b[49m\u001b[43merrors\u001b[49m\u001b[43m,\u001b[49m\n\u001b[32m   5596\u001b[39m \u001b[43m    \u001b[49m\u001b[43m)\u001b[49m\n",
      "\u001b[36mFile \u001b[39m\u001b[32mc:\\Users\\marco\\Desktop\\Sentinel-Flow\\.venv\\Lib\\site-packages\\pandas\\core\\generic.py:4807\u001b[39m, in \u001b[36mNDFrame.drop\u001b[39m\u001b[34m(self, labels, axis, index, columns, level, inplace, errors)\u001b[39m\n\u001b[32m   4805\u001b[39m \u001b[38;5;28;01mfor\u001b[39;00m axis, labels \u001b[38;5;129;01min\u001b[39;00m axes.items():\n\u001b[32m   4806\u001b[39m     \u001b[38;5;28;01mif\u001b[39;00m labels \u001b[38;5;129;01mis\u001b[39;00m \u001b[38;5;129;01mnot\u001b[39;00m \u001b[38;5;28;01mNone\u001b[39;00m:\n\u001b[32m-> \u001b[39m\u001b[32m4807\u001b[39m         obj = \u001b[43mobj\u001b[49m\u001b[43m.\u001b[49m\u001b[43m_drop_axis\u001b[49m\u001b[43m(\u001b[49m\u001b[43mlabels\u001b[49m\u001b[43m,\u001b[49m\u001b[43m \u001b[49m\u001b[43maxis\u001b[49m\u001b[43m,\u001b[49m\u001b[43m \u001b[49m\u001b[43mlevel\u001b[49m\u001b[43m=\u001b[49m\u001b[43mlevel\u001b[49m\u001b[43m,\u001b[49m\u001b[43m \u001b[49m\u001b[43merrors\u001b[49m\u001b[43m=\u001b[49m\u001b[43merrors\u001b[49m\u001b[43m)\u001b[49m\n\u001b[32m   4809\u001b[39m \u001b[38;5;28;01mif\u001b[39;00m inplace:\n\u001b[32m   4810\u001b[39m     \u001b[38;5;28mself\u001b[39m._update_inplace(obj)\n",
      "\u001b[36mFile \u001b[39m\u001b[32mc:\\Users\\marco\\Desktop\\Sentinel-Flow\\.venv\\Lib\\site-packages\\pandas\\core\\generic.py:4849\u001b[39m, in \u001b[36mNDFrame._drop_axis\u001b[39m\u001b[34m(self, labels, axis, level, errors, only_slice)\u001b[39m\n\u001b[32m   4847\u001b[39m         new_axis = axis.drop(labels, level=level, errors=errors)\n\u001b[32m   4848\u001b[39m     \u001b[38;5;28;01melse\u001b[39;00m:\n\u001b[32m-> \u001b[39m\u001b[32m4849\u001b[39m         new_axis = \u001b[43maxis\u001b[49m\u001b[43m.\u001b[49m\u001b[43mdrop\u001b[49m\u001b[43m(\u001b[49m\u001b[43mlabels\u001b[49m\u001b[43m,\u001b[49m\u001b[43m \u001b[49m\u001b[43merrors\u001b[49m\u001b[43m=\u001b[49m\u001b[43merrors\u001b[49m\u001b[43m)\u001b[49m\n\u001b[32m   4850\u001b[39m     indexer = axis.get_indexer(new_axis)\n\u001b[32m   4852\u001b[39m \u001b[38;5;66;03m# Case for non-unique axis\u001b[39;00m\n\u001b[32m   4853\u001b[39m \u001b[38;5;28;01melse\u001b[39;00m:\n",
      "\u001b[36mFile \u001b[39m\u001b[32mc:\\Users\\marco\\Desktop\\Sentinel-Flow\\.venv\\Lib\\site-packages\\pandas\\core\\indexes\\base.py:7136\u001b[39m, in \u001b[36mIndex.drop\u001b[39m\u001b[34m(self, labels, errors)\u001b[39m\n\u001b[32m   7134\u001b[39m \u001b[38;5;28;01mif\u001b[39;00m mask.any():\n\u001b[32m   7135\u001b[39m     \u001b[38;5;28;01mif\u001b[39;00m errors != \u001b[33m\"\u001b[39m\u001b[33mignore\u001b[39m\u001b[33m\"\u001b[39m:\n\u001b[32m-> \u001b[39m\u001b[32m7136\u001b[39m         \u001b[38;5;28;01mraise\u001b[39;00m \u001b[38;5;167;01mKeyError\u001b[39;00m(\u001b[33mf\u001b[39m\u001b[33m\"\u001b[39m\u001b[38;5;132;01m{\u001b[39;00mlabels[mask].tolist()\u001b[38;5;132;01m}\u001b[39;00m\u001b[33m not found in axis\u001b[39m\u001b[33m\"\u001b[39m)\n\u001b[32m   7137\u001b[39m     indexer = indexer[~mask]\n\u001b[32m   7138\u001b[39m \u001b[38;5;28;01mreturn\u001b[39;00m \u001b[38;5;28mself\u001b[39m.delete(indexer)\n",
      "\u001b[31mKeyError\u001b[39m: \"['Unnamed: 7'] not found in axis\""
     ]
    }
   ],
   "source": [
    "pf_df = pd.read_csv(\"clima.csv\", sep=';')\n",
    "pf_df.drop(columns=['Unnamed: 7'], inplace=True)\n",
    "display(pf_df)"
   ]
  },
  {
   "cell_type": "code",
   "execution_count": null,
   "id": "35931e94",
   "metadata": {},
   "outputs": [
    {
     "name": "stdout",
     "output_type": "stream",
     "text": [
      "Data Medicao                                   0\n",
      "Hora Medicao                                   0\n",
      "PRECIPITACAO TOTAL, HORARIO(mm)                0\n",
      "RADIACAO GLOBAL(Kj/m²)                         0\n",
      "TEMPERATURA DO AR - BULBO SECO, HORARIA(°C)    0\n",
      "UMIDADE RELATIVA DO AR, HORARIA(%)             0\n",
      "VENTO, VELOCIDADE HORARIA(m/s)                 0\n",
      "dtype: int64\n"
     ]
    },
    {
     "name": "stderr",
     "output_type": "stream",
     "text": [
      "C:\\Users\\marco\\AppData\\Local\\Temp\\ipykernel_14572\\1257529808.py:1: FutureWarning: DataFrame.fillna with 'method' is deprecated and will raise in a future version. Use obj.ffill() or obj.bfill() instead.\n",
      "  pf_df.fillna(method='ffill', inplace=True)\n"
     ]
    }
   ],
   "source": [
    "pf_df.fillna(method='ffill', inplace=True)\n",
    "print(pf_df.isnull().sum())"
   ]
  },
  {
   "cell_type": "markdown",
   "id": "4830205f",
   "metadata": {},
   "source": [
    "# Tratando dados da variação do volume da barragem"
   ]
  },
  {
   "cell_type": "code",
   "execution_count": null,
   "id": "086e7afd",
   "metadata": {},
   "outputs": [
    {
     "data": {
      "application/vnd.microsoft.datawrangler.viewer.v0+json": {
       "columns": [
        {
         "name": "index",
         "rawType": "int64",
         "type": "integer"
        },
        {
         "name": "data",
         "rawType": "object",
         "type": "string"
        },
        {
         "name": "volume",
         "rawType": "float64",
         "type": "float"
        }
       ],
       "ref": "347f63fd-f6cf-4581-ac8f-979f3edfaddf",
       "rows": [
        [
         "0",
         "08-16-2021",
         "49.95"
        ],
        [
         "1",
         "08-17-2021",
         "49.81"
        ],
        [
         "2",
         "08-18-2021",
         "49.68"
        ],
        [
         "3",
         "08-19-2021",
         "49.68"
        ],
        [
         "4",
         "08-20-2021",
         "49.54"
        ],
        [
         "5",
         "08-21-2021",
         "49.27"
        ],
        [
         "6",
         "08-22-2021",
         "49.27"
        ],
        [
         "7",
         "08-23-2021",
         "49.14"
        ],
        [
         "8",
         "08-24-2021",
         "49.0"
        ],
        [
         "9",
         "08-25-2021",
         "49.0"
        ],
        [
         "10",
         "08-26-2021",
         "48.87"
        ],
        [
         "11",
         "08-27-2021",
         "48.87"
        ],
        [
         "12",
         "08-28-2021",
         "48.73"
        ],
        [
         "13",
         "08-29-2021",
         "48.6"
        ],
        [
         "14",
         "08-30-2021",
         "48.46"
        ],
        [
         "15",
         "08-31-2021",
         "48.33"
        ],
        [
         "16",
         "09-01-2021",
         "48.19"
        ],
        [
         "17",
         "09-02-2021",
         "48.06"
        ],
        [
         "18",
         "09-03-2021",
         "47.92"
        ],
        [
         "19",
         "09-04-2021",
         "47.79"
        ],
        [
         "20",
         "09-05-2021",
         "47.79"
        ],
        [
         "21",
         "09-06-2021",
         "47.65"
        ],
        [
         "22",
         "09-07-2021",
         "47.52"
        ],
        [
         "23",
         "09-08-2021",
         "47.52"
        ],
        [
         "24",
         "09-09-2021",
         "47.52"
        ],
        [
         "25",
         "09-10-2021",
         "47.38"
        ],
        [
         "26",
         "09-11-2021",
         "47.38"
        ],
        [
         "27",
         "09-12-2021",
         "47.38"
        ],
        [
         "28",
         "09-13-2021",
         "47.25"
        ],
        [
         "29",
         "09-14-2021",
         "47.11"
        ],
        [
         "30",
         "09-15-2021",
         "46.98"
        ],
        [
         "31",
         "09-16-2021",
         "46.84"
        ],
        [
         "32",
         "09-17-2021",
         "46.71"
        ],
        [
         "33",
         "09-18-2021",
         "46.57"
        ],
        [
         "34",
         "09-19-2021",
         "46.44"
        ],
        [
         "35",
         "09-20-2021",
         "46.44"
        ],
        [
         "36",
         "09-21-2021",
         "46.3"
        ],
        [
         "37",
         "09-22-2021",
         "46.17"
        ],
        [
         "38",
         "09-23-2021",
         "46.17"
        ],
        [
         "39",
         "09-24-2021",
         "46.03"
        ],
        [
         "40",
         "09-25-2021",
         "45.9"
        ],
        [
         "41",
         "09-26-2021",
         "45.76"
        ],
        [
         "42",
         "09-27-2021",
         "45.63"
        ],
        [
         "43",
         "09-28-2021",
         "45.49"
        ],
        [
         "44",
         "09-29-2021",
         "45.36"
        ],
        [
         "45",
         "09-30-2021",
         "45.22"
        ],
        [
         "46",
         "10-01-2021",
         "45.22"
        ],
        [
         "47",
         "10-02-2021",
         "45.09"
        ],
        [
         "48",
         "10-03-2021",
         "44.95"
        ],
        [
         "49",
         "10-04-2021",
         "44.82"
        ]
       ],
       "shape": {
        "columns": 2,
        "rows": 1462
       }
      },
      "text/html": [
       "<div>\n",
       "<style scoped>\n",
       "    .dataframe tbody tr th:only-of-type {\n",
       "        vertical-align: middle;\n",
       "    }\n",
       "\n",
       "    .dataframe tbody tr th {\n",
       "        vertical-align: top;\n",
       "    }\n",
       "\n",
       "    .dataframe thead th {\n",
       "        text-align: right;\n",
       "    }\n",
       "</style>\n",
       "<table border=\"1\" class=\"dataframe\">\n",
       "  <thead>\n",
       "    <tr style=\"text-align: right;\">\n",
       "      <th></th>\n",
       "      <th>data</th>\n",
       "      <th>volume</th>\n",
       "    </tr>\n",
       "  </thead>\n",
       "  <tbody>\n",
       "    <tr>\n",
       "      <th>0</th>\n",
       "      <td>08-16-2021</td>\n",
       "      <td>49.95</td>\n",
       "    </tr>\n",
       "    <tr>\n",
       "      <th>1</th>\n",
       "      <td>08-17-2021</td>\n",
       "      <td>49.81</td>\n",
       "    </tr>\n",
       "    <tr>\n",
       "      <th>2</th>\n",
       "      <td>08-18-2021</td>\n",
       "      <td>49.68</td>\n",
       "    </tr>\n",
       "    <tr>\n",
       "      <th>3</th>\n",
       "      <td>08-19-2021</td>\n",
       "      <td>49.68</td>\n",
       "    </tr>\n",
       "    <tr>\n",
       "      <th>4</th>\n",
       "      <td>08-20-2021</td>\n",
       "      <td>49.54</td>\n",
       "    </tr>\n",
       "    <tr>\n",
       "      <th>...</th>\n",
       "      <td>...</td>\n",
       "      <td>...</td>\n",
       "    </tr>\n",
       "    <tr>\n",
       "      <th>1457</th>\n",
       "      <td>08-12-2025</td>\n",
       "      <td>12.99</td>\n",
       "    </tr>\n",
       "    <tr>\n",
       "      <th>1458</th>\n",
       "      <td>08-13-2025</td>\n",
       "      <td>12.99</td>\n",
       "    </tr>\n",
       "    <tr>\n",
       "      <th>1459</th>\n",
       "      <td>08-14-2025</td>\n",
       "      <td>12.95</td>\n",
       "    </tr>\n",
       "    <tr>\n",
       "      <th>1460</th>\n",
       "      <td>08-15-2025</td>\n",
       "      <td>NaN</td>\n",
       "    </tr>\n",
       "    <tr>\n",
       "      <th>1461</th>\n",
       "      <td>08-16-2025</td>\n",
       "      <td>NaN</td>\n",
       "    </tr>\n",
       "  </tbody>\n",
       "</table>\n",
       "<p>1462 rows × 2 columns</p>\n",
       "</div>"
      ],
      "text/plain": [
       "            data  volume\n",
       "0     08-16-2021   49.95\n",
       "1     08-17-2021   49.81\n",
       "2     08-18-2021   49.68\n",
       "3     08-19-2021   49.68\n",
       "4     08-20-2021   49.54\n",
       "...          ...     ...\n",
       "1457  08-12-2025   12.99\n",
       "1458  08-13-2025   12.99\n",
       "1459  08-14-2025   12.95\n",
       "1460  08-15-2025     NaN\n",
       "1461  08-16-2025     NaN\n",
       "\n",
       "[1462 rows x 2 columns]"
      ]
     },
     "execution_count": 71,
     "metadata": {},
     "output_type": "execute_result"
    }
   ],
   "source": [
    "df_barragem = pd.read_csv(\"dados_tratados_ana_carnaubal.csv\")\n",
    "df_barragem"
   ]
  },
  {
   "cell_type": "code",
   "execution_count": null,
   "id": "0f5bb3b5",
   "metadata": {},
   "outputs": [
    {
     "name": "stdout",
     "output_type": "stream",
     "text": [
      "data      0\n",
      "volume    0\n",
      "dtype: int64\n"
     ]
    },
    {
     "name": "stderr",
     "output_type": "stream",
     "text": [
      "C:\\Users\\marco\\AppData\\Local\\Temp\\ipykernel_14572\\3135038113.py:1: FutureWarning: DataFrame.fillna with 'method' is deprecated and will raise in a future version. Use obj.ffill() or obj.bfill() instead.\n",
      "  df_barragem.fillna(method='ffill', inplace=True)\n"
     ]
    }
   ],
   "source": [
    "df_barragem.fillna(method='ffill', inplace=True)\n",
    "print(df_barragem.isnull().sum())"
   ]
  },
  {
   "cell_type": "markdown",
   "id": "eebb1df2",
   "metadata": {},
   "source": [
    "# Unificação dos dois DF\n"
   ]
  },
  {
   "cell_type": "code",
   "execution_count": 107,
   "id": "a811ca25",
   "metadata": {},
   "outputs": [],
   "source": [
    "df_volume = df_barragem.copy()\n",
    "df_volume['data'] = pd.to_datetime(df_volume['data'])\n",
    "df_clima = pf_df.copy()\n",
    "df_clima['data'] = pd.to_datetime(df_clima['data'], errors='coerce')\n",
    "\n",
    "df_final = pd.merge(df_volume,df_clima, on='data', how='inner')\n",
    "df_final = df_final.sort_values(by='data').reset_index(drop=True)"
   ]
  },
  {
   "cell_type": "code",
   "execution_count": 112,
   "id": "0d663a60",
   "metadata": {},
   "outputs": [],
   "source": [
    "df_final['variacao_volume'] = df_final['volume'].diff()\n",
    "df_final.dropna(subset=['variacao_volume'], inplace=True)\n",
    "\n",
    "caminho = 'dados_tratados_ana_carnaubal_completoo.csv'\n",
    "df_final.to_csv(caminho, index=False, sep=';')"
   ]
  },
  {
   "cell_type": "code",
   "execution_count": 110,
   "id": "5f64de9b",
   "metadata": {},
   "outputs": [
    {
     "name": "stdout",
     "output_type": "stream",
     "text": [
      "data                                           0\n",
      "volume                                         0\n",
      "Hora Medicao                                   0\n",
      "PRECIPITACAO TOTAL, HORARIO(mm)                0\n",
      "RADIACAO GLOBAL(Kj/m²)                         0\n",
      "TEMPERATURA DO AR - BULBO SECO, HORARIA(°C)    0\n",
      "UMIDADE RELATIVA DO AR, HORARIA(%)             0\n",
      "VENTO, VELOCIDADE HORARIA(m/s)                 0\n",
      "variacao_volume                                0\n",
      "dtype: int64\n"
     ]
    },
    {
     "name": "stderr",
     "output_type": "stream",
     "text": [
      "C:\\Users\\marco\\AppData\\Local\\Temp\\ipykernel_14572\\1441387021.py:1: FutureWarning: DataFrame.fillna with 'method' is deprecated and will raise in a future version. Use obj.ffill() or obj.bfill() instead.\n",
      "  df_final.fillna(method='ffill', inplace=True)\n"
     ]
    }
   ],
   "source": [
    "df_final.fillna(method='ffill', inplace=True)\n",
    "print(df_final.isnull().sum())"
   ]
  }
 ],
 "metadata": {
  "kernelspec": {
   "display_name": ".venv",
   "language": "python",
   "name": "python3"
  },
  "language_info": {
   "codemirror_mode": {
    "name": "ipython",
    "version": 3
   },
   "file_extension": ".py",
   "mimetype": "text/x-python",
   "name": "python",
   "nbconvert_exporter": "python",
   "pygments_lexer": "ipython3",
   "version": "3.13.6"
  }
 },
 "nbformat": 4,
 "nbformat_minor": 5
}
